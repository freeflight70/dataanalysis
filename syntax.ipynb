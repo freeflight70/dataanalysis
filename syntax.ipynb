{
 "cells": [
  {
   "cell_type": "markdown",
   "metadata": {},
   "source": [
    "Course: scientific and empirical methods  \n",
    "Lecturer: Miroslav Despotovic"
   ]
  },
  {
   "cell_type": "markdown",
   "metadata": {},
   "source": [
    "# 1. Introduction"
   ]
  },
  {
   "cell_type": "markdown",
   "metadata": {},
   "source": [
    "## The course\n",
    "### The goal of this course is to teach you data analysis with Python with use cases from the field of real estate and energy management."
   ]
  },
  {
   "cell_type": "markdown",
   "metadata": {},
   "source": [
    "### The concept of the course is structured as follows:\n",
    "\n",
    "\n",
    "- **Introduction**: presentation of syntax and programming methodologies with examples.\n",
    "- **Data analyses**: Treatment of specific statistical problems to consolidate the learning content.\n",
    "- **Exercises**: Individual and group exercises\n",
    "- **Grading**: Group project"
   ]
  },
  {
   "cell_type": "markdown",
   "metadata": {},
   "source": [
    "## Why Python?\n",
    "Python is one of the most popular and widely used high-level programming languages today.\n",
    "\n",
    "The Python language is relatively easy to learn, very flexible and is supported by the extensive standard library.\n",
    "Python offers the possibility for object-oriented programming and writing complex software systems.  \n",
    "### The Python programming language is widely used especially in the field of **data analysis and machine learning**."
   ]
  },
  {
   "cell_type": "markdown",
   "metadata": {},
   "source": [
    "## Code editing"
   ]
  },
  {
   "cell_type": "markdown",
   "metadata": {},
   "source": [
    "Similar to a natural language, a programming language has a certain vocabulary (**keywords**) and a grammar (**syntax**), according to whose rules the program code is to be written. The code in a programming language is the collection of syntactically correct instructions. \n",
    "\n",
    "The code can be written with the help of a code editor software, e.g. PyCharm, Spyder, Visual Studio. or via web browser using Jupyter Notebook. **Within the scope of this course, we will use Jupyter Notebook for coding!**<br> \n",
    "Here are web links for some code editor software as well as for very good Python knowledge library provided by W3Schools: <br>\n",
    "https://www.jetbrains.com/pycharm/ <br> \n",
    "https://www.spyder-ide.org/ <br> \n",
    "https://visualstudio.microsoft.com/vs/features/python/ <br>\n",
    "https://jupyter.org/ <br>\n",
    "https://www.w3schools.com/python/default.asp\n"
   ]
  },
  {
   "cell_type": "markdown",
   "metadata": {},
   "source": [
    "## Working with Jupyter Notebook"
   ]
  },
  {
   "cell_type": "markdown",
   "metadata": {},
   "source": [
    "The **Jupyter Notebook** is the **standard tool** for editing and executing a programming code - especially in the area of **data analysis**.\n",
    "\n",
    "Jupyter Notebook is a free, web-based notebook that can execute texts and codes. The software is a universal tool for over 40 programming languagese. It is primarily used as a web-based extension of IPython for running Python code.\n",
    "\n",
    "A notebook consists of individual cells that can display different types of content, such as source codes, texts in HTML or Markdown, images or mathematical formulas (in Latex).\n"
   ]
  },
  {
   "cell_type": "markdown",
   "metadata": {},
   "source": [
    "**The individual steps for installing Python and Python modules, including Jupyter Notebook, can be found on the course website on the Moodle!**"
   ]
  },
  {
   "cell_type": "markdown",
   "metadata": {},
   "source": [
    "### Creating a notebook\n",
    "+ To create a new notebook, go to \"File\" in the menu and select \"New Notebook\".\n",
    "+ To save and name a notebook, go to \"File\" in the menu and select \"Save as\"."
   ]
  },
  {
   "cell_type": "markdown",
   "metadata": {},
   "source": [
    "### Creating cells in a notebook\n",
    "#### Each cell in a notebook is called a \"chunk\".\n",
    "+ To insert a chunk, go to \"Insert\" in the menu.\n",
    "+ To delete, copy or paste chunk(s), click on \"Edit\" in the menu."
   ]
  },
  {
   "cell_type": "markdown",
   "metadata": {},
   "source": [
    "### Exercise:\n",
    "1. Create a new notebook.\n",
    "2. Insert 2 new chunks.\n",
    "3. Copy 2 chunks and paste them.\n",
    "4. Delete 2 empty chunks.\n",
    "5. Name and save the notebook."
   ]
  },
  {
   "cell_type": "markdown",
   "metadata": {},
   "source": [
    "### Executing chunks\n",
    "\n",
    "+ To make a chunk with the text, write text and **select \"Markdown\" from the dropbox on the menu**. \n",
    "Then execute chunk by clicking \" Run\" in the menu.\n",
    "<br>\n",
    "+ To make a chunk with the code, write code and **select \"Code\" from the dropbox on the menu**. \n",
    "Then execute chunk by clicking \" Run\" in the menu."
   ]
  },
  {
   "cell_type": "markdown",
   "metadata": {},
   "source": [
    "### Exercise:\n",
    "1. Write some text in an empty chunk\n",
    "2. Execute chunk as Markdown\n",
    "3. Write **print(\"FH Kufstein\")**  in an empty chunk\n",
    "4. Execute chunk as code"
   ]
  },
  {
   "cell_type": "markdown",
   "metadata": {},
   "source": [
    "### Rules for writting text in notebooks"
   ]
  },
  {
   "cell_type": "markdown",
   "metadata": {},
   "source": [
    "It is possible to format text in a notebook in a similar way as in a common text editor. You can find a cheatsheet with  text formatting rules under: <br>\n",
    "https://www.ibm.com/docs/en/watson-studio-local/1.2.3?topic=notebooks-markdown-jupyter-cheatsheet"
   ]
  },
  {
   "cell_type": "markdown",
   "metadata": {},
   "source": [
    "#### Headings\n",
    "#### To create a heading in the text, write some text and place hash followed with space before the text, e.g. # myText\n",
    "1. You need to select the formatting for heading as heading or markdown from the menu dropbox.   \n",
    "(Multiple hash marks before heading text reduce the size of the heading.)\n",
    "2. After selecting the correct formatting, execute the chunk by clicking Run in the menu."
   ]
  },
  {
   "cell_type": "markdown",
   "metadata": {},
   "source": [
    "> Further rules for bullet points, numbering, bold and italics, etc., can be found in the above link with the cheatsheet. "
   ]
  },
  {
   "cell_type": "raw",
   "metadata": {},
   "source": [
    "#### Raw NBConvert\n",
    "If you want to write output directly respectively to put code that you don’t want to run, select Raw NBConcert in the dropdown. Raw cells will be not executed in the notebook.\n"
   ]
  },
  {
   "cell_type": "markdown",
   "metadata": {},
   "source": [
    "### Exercise:\n",
    "Write some\n",
    "1. text with numberings\n",
    "2. text with bullet points\n",
    "3. bold text \n",
    "4. italic text\n",
    "5. raw text"
   ]
  },
  {
   "cell_type": "markdown",
   "metadata": {},
   "source": [
    "### Importing images\n",
    "To import an image go to menu: edit ==> insert image ==> select  a file\n"
   ]
  },
  {
   "cell_type": "markdown",
   "metadata": {},
   "source": [
    "# 2. Python modules & Python syntax\n",
    "\n"
   ]
  },
  {
   "cell_type": "markdown",
   "metadata": {},
   "source": [
    "### 2.1 Modules\n",
    "Most functions in Python are packed in so-called modules. A module provides functions that serve a specific programatical purpose, such as the \"math\" module for calculating mathematical functions or \"seaborn\" module for drawig diagrams. Two types of modules exist in Python:\n",
    "- **Global modules**: Python packages that are already installed system-wide (built-in module as the part of Python Standard Library like e.g. math or calendar modules).\n",
    "- **Local modules**: Packages with functions that are only available in the included package and must be installed separately (e.g. numpay, matplotlib)."
   ]
  },
  {
   "cell_type": "markdown",
   "metadata": {},
   "source": [
    "\n",
    "\n",
    "#### The Python Standard Library\n",
    "describes the standard module library that is distributed with Python. It also describes some of the optional components that are commonly included in Python distributions.\n",
    "https://docs.python.org/3/library/"
   ]
  },
  {
   "cell_type": "markdown",
   "metadata": {},
   "source": [
    "#### Importing modules into Python session"
   ]
  },
  {
   "cell_type": "markdown",
   "metadata": {},
   "source": [
    "Every time we start the Jupyter and open a notebook, we start a working session.\n",
    "While the changes in the code can be saved as a notebook, the validity of all executed functions and imported modules during an active programming session is temporary.<br>\n",
    "To import a local module during the session use the **import** function. "
   ]
  },
  {
   "cell_type": "code",
   "execution_count": null,
   "metadata": {},
   "outputs": [],
   "source": [
    "import pandas"
   ]
  },
  {
   "cell_type": "markdown",
   "metadata": {},
   "source": [
    "Every time we want to utilize a function in Python, we need to refer the function to its associated module by putting a prefix in front of the function name, e.g. in the code we write the function **DataFrame** from the Pandas module as **pandas.DataFrame**. <br>\n",
    "We can also assign an abbreviated **alias** of the module name to a function. This makes it a little easier for us to code during the session. For this we have to define an alias when we import a module:"
   ]
  },
  {
   "cell_type": "code",
   "execution_count": null,
   "metadata": {},
   "outputs": [],
   "source": [
    "import pandas as pd"
   ]
  },
  {
   "cell_type": "markdown",
   "metadata": {},
   "source": [
    "Now we can write for example the DataFrame function from the Pandas module as **pd.DataFrame**. <br>\n",
    "\n",
    "It is also possible to import only one arbitrary function from a module. This prevents name collisions and makes coding a bit easier, e.g.:"
   ]
  },
  {
   "cell_type": "code",
   "execution_count": null,
   "metadata": {},
   "outputs": [],
   "source": [
    "from pandas import DataFrame"
   ]
  },
  {
   "cell_type": "markdown",
   "metadata": {},
   "source": [
    "Now we can write the DataFrame function from the Pandas module as **DataFrame** in my notebook without any prefix like pandas or pd.\n",
    "\n",
    "It is also possible to  import one arbitrary function from a module and asign alias to it:"
   ]
  },
  {
   "cell_type": "code",
   "execution_count": null,
   "metadata": {},
   "outputs": [],
   "source": [
    "from pandas import DataFrame as df"
   ]
  },
  {
   "cell_type": "markdown",
   "metadata": {},
   "source": [
    "In addition, it is also possible to import a collection of functions from a specific module: "
   ]
  },
  {
   "cell_type": "code",
   "execution_count": null,
   "metadata": {},
   "outputs": [],
   "source": [
    "import matplotlib.pyplot as plt"
   ]
  },
  {
   "cell_type": "markdown",
   "metadata": {},
   "source": [
    "See https://matplotlib.org/stable/tutorials/introductory/pyplot.html"
   ]
  },
  {
   "cell_type": "markdown",
   "metadata": {},
   "source": [
    "### Exercise:\n",
    "Import\n",
    "1. numpy module\n",
    "2. numpy module with alias np\n",
    "3. function mean from numpy module"
   ]
  },
  {
   "cell_type": "markdown",
   "metadata": {},
   "source": [
    "### 2.2 Syntax"
   ]
  },
  {
   "cell_type": "markdown",
   "metadata": {},
   "source": [
    "#### The Python Language Reference describes the syntax and “core semantics” of the Python programming language. \n",
    "https://docs.python.org/3/reference/index.html#reference-index"
   ]
  },
  {
   "cell_type": "markdown",
   "metadata": {},
   "source": [
    "Every programming language has fixed syntax that allows only special combinations of selected symbols and keywords. The keywords are the \"vocabularies\" of the language with a fixed meaning, which cannot be used for other purposes (e.g. for naming variables). The syntax of a programming language covers all possibilities for the definition of different data structures, control structures (control of the program flow) and instructions."
   ]
  },
  {
   "cell_type": "markdown",
   "metadata": {},
   "source": [
    "#### Python Keywords\n",
    "Python 3.x interpreter has 33 keywords defined in it. Since they have a predefined function in the code, they **cannot be used as identifier** for variable names, function names, or any other identifiers. With the function **help** we can list all available keywords:"
   ]
  },
  {
   "cell_type": "code",
   "execution_count": null,
   "metadata": {},
   "outputs": [],
   "source": [
    "help(\"keywords\")"
   ]
  },
  {
   "cell_type": "markdown",
   "metadata": {},
   "source": [
    "#### Python identifiers\n",
    "\n",
    "Apart from keywords, a Python program can have variables, functions, classes, modules, etc. An identifier is the **user-defined name** given to these programming elements. <br>\n",
    "The main advantage of using identifiers is to: \n",
    "+ distinguish or identify one programming element from another,\n",
    "+ abbreviate the code and make it more readable, \n",
    "+ make it easier to refer from one element to another, and \n",
    "+ adapt the code to your own coding design. <br>\n",
    "\n",
    "There are some **important rules for writing identifiers**:"
   ]
  },
  {
   "cell_type": "markdown",
   "metadata": {},
   "source": [
    "1. The Python identifier can be made with a combination of lowercase or uppercase letters, digits or an underscore.\n",
    "\n",
    "These are the valid characters.\n",
    "\n",
    "+ Lowercase letters (a to z)\n",
    "+ Uppercase letters (A to Z)\n",
    "+ Digits (0 to 9)\n",
    "+ Underscore (_) <br>\n",
    "\n",
    "Examples:\n",
    "- num1\n",
    "- FLAG\n",
    "- get_user_name\n",
    "- myTable\n",
    "- _1234\n",
    "- df "
   ]
  },
  {
   "cell_type": "markdown",
   "metadata": {},
   "source": [
    "2. An identifier cannot start with a digit. If we create an identifier that starts with a digit then we will get a syntax error.\n",
    "3. We also cannot use special symbols in a identifiers name.\n",
    "\n",
    "Symbols like ( !, @, #, $, %, . ) are **invalid**. <br>\n",
    "\n",
    "\n",
    "The following chunk shows an example of a valid identifier with arbitrary name n for the variable of an integer type  containing the value 4. <br>\n",
    "In combination with the function **for**, we can use the variable **n** to create a loop in which all natural numbers that are smaller than n are displayed one after another:"
   ]
  },
  {
   "cell_type": "code",
   "execution_count": null,
   "metadata": {},
   "outputs": [],
   "source": [
    "n = 4\n",
    "for i in range(0, n):\n",
    "    print(i)"
   ]
  },
  {
   "cell_type": "markdown",
   "metadata": {},
   "source": [
    "#### Assignment of an identifier in a Python statement\n",
    "\n",
    "Each code line terminated by a new line in a Python script is called a **statement**. Following example shows statements with identifiers for variables with numeric and string values:"
   ]
  },
  {
   "cell_type": "code",
   "execution_count": null,
   "metadata": {},
   "outputs": [],
   "source": [
    "msg=\"Willkommen an der FH Kufstein\"\n",
    "code=842744"
   ]
  },
  {
   "cell_type": "markdown",
   "metadata": {},
   "source": [
    "We can print variable contents by simply using the identifier:"
   ]
  },
  {
   "cell_type": "code",
   "execution_count": null,
   "metadata": {},
   "outputs": [],
   "source": [
    "print(msg)\n",
    "print(code)"
   ]
  },
  {
   "cell_type": "markdown",
   "metadata": {},
   "source": [
    "Just as in other programming languages such as C/C++/C#, R, or Matlab a semicolon ; denotes the end of a statement in the current line. Thus, we also can write multiple statements in a single line."
   ]
  },
  {
   "cell_type": "code",
   "execution_count": null,
   "metadata": {},
   "outputs": [],
   "source": [
    "from datetime import date; dt = date.today();\n",
    "msg=\"Guten Tag\"; code=dt; name=\"Markus\";\n",
    "print(code); print(msg); print(name);"
   ]
  },
  {
   "cell_type": "markdown",
   "metadata": {},
   "source": [
    "We can also write text spread over more than one lines in a single statement by using the backslash (\\) as a continuation character. This is called a **multiline statement**. Look at the following example:"
   ]
  },
  {
   "cell_type": "code",
   "execution_count": null,
   "metadata": {},
   "outputs": [],
   "source": [
    "msg=\"Hello. Welcome to \\\n",
    "data analysis \\\n",
    "course with Python.\"\n",
    "aa=print(msg)\n",
    "aa"
   ]
  },
  {
   "cell_type": "markdown",
   "metadata": {},
   "source": [
    "#### Code description:\n",
    "+ we have defined an identifier **msg** for a string variable with text\n",
    "+ we have executed **print** function with the identifier **msg** as argument and assigned the output to identfier **aa**\n",
    "+ Now we can use the printed content by simply using identifier **aa** anywhere in the code.\n",
    "\n",
    "Another example for a multiline statement:"
   ]
  },
  {
   "cell_type": "code",
   "execution_count": null,
   "metadata": {},
   "outputs": [],
   "source": [
    "a = 1 + 2 + 3 + \\\n",
    "    4 + 5 + 6 + \\\n",
    "    7 + 8 + 9\n",
    "a"
   ]
  },
  {
   "cell_type": "markdown",
   "metadata": {},
   "source": [
    "### Exercise:\n",
    "Write 3 identifiers with an arbitrary content and name them whatever you like. Combine lowercase letters (a to z), uppercase letters (A to Z), digits (0 to 9) and underscore (_) for naming.\n",
    "1. an identifier with numerical value\n",
    "2. an identifier with string (text)\n",
    "3. an identifier for executed print function."
   ]
  },
  {
   "cell_type": "markdown",
   "metadata": {},
   "source": [
    "#### Indents in Python\n",
    "\n",
    "In Python, indentations are used to define the code blocks. Commonly, indentations are written with 1,2 or more commonly **4 spaces**. The first line on the top, before the indented block, always ends with a colon (:).\n",
    "The indentations should be marked by the consistent number of spaces for the entire project. <br>\n",
    "Here we construct a custom function using **def** keyword with an indentation of 4 spaces:"
   ]
  },
  {
   "cell_type": "code",
   "execution_count": null,
   "metadata": {},
   "outputs": [],
   "source": [
    "def greeting(name):\n",
    "    print(\"Servus \",name)"
   ]
  },
  {
   "cell_type": "markdown",
   "metadata": {},
   "source": [
    "Let's execute custom function:"
   ]
  },
  {
   "cell_type": "code",
   "execution_count": null,
   "metadata": {},
   "outputs": [],
   "source": [
    "greeting(\"Markus\")"
   ]
  },
  {
   "cell_type": "markdown",
   "metadata": {},
   "source": [
    "Here we utilize a multiple indentation with an **incorrectly** typed indent and therefore get an **error message**:"
   ]
  },
  {
   "cell_type": "code",
   "execution_count": null,
   "metadata": {},
   "outputs": [],
   "source": [
    "newName=\"Stefan\"\n",
    "if not newName==\"Stefan\":  \n",
    "    print(\"falscher User\")\n",
    "else:  \n",
    "    greeting(newName)\n",
    "     print(\"Du bist jetzt eingeloggt\")"
   ]
  },
  {
   "cell_type": "markdown",
   "metadata": {},
   "source": [
    "#### We correct the indent and the statement can now be executed without the error:"
   ]
  },
  {
   "cell_type": "code",
   "execution_count": null,
   "metadata": {},
   "outputs": [],
   "source": [
    "newName=\"Stefan\"\n",
    "if not newName==\"Stefan\":  \n",
    "    print(\"falscher user\")\n",
    "else:  \n",
    "    greeting(newName)\n",
    "    print(\"Du bist jetzt eingeloggt\")"
   ]
  },
  {
   "cell_type": "markdown",
   "metadata": {},
   "source": [
    "### Dealing with errors in Python\n",
    "Python can return various types of errors. Mostly of them are the syntax errors or errors related to a module that cannot be accessed. When an error occurs, the compiler outputs an** error message, error position and explanatory text**. <br>\n",
    "Most common errors in Python can be tracked relatively easily - if you read them. For complex errors, consider this list of all the errors existing in Python and their interpretation, under following link: https://docs.python.org/3/library/exceptions.html"
   ]
  },
  {
   "cell_type": "markdown",
   "metadata": {},
   "source": [
    "### Comments in Python\n",
    "\n",
    "Comments in Python code are very important, as they can be used to write information about individual statements or blocks within the code. In a Python code, the symbol # indicates the start of a comment line. It is effective till the end of the line in the editor. If # is the first character of the line, then the entire line is a comment. A comment can be also applied at some arbitrary position of a line. In the following example the text before # sign is a valid Python code expression, while the text following # sign is comment."
   ]
  },
  {
   "cell_type": "code",
   "execution_count": null,
   "metadata": {},
   "outputs": [],
   "source": [
    "# this is comment before code statement\n",
    "print (\"Hello World\")\n",
    "print (\"Welcome to Python Tutorial\") # this is also comment but after code statement."
   ]
  },
  {
   "cell_type": "markdown",
   "metadata": {},
   "source": [
    "**A triple quoted multi-line string is also treated as a comment if it is not a part of a function or a class.**"
   ]
  },
  {
   "cell_type": "code",
   "execution_count": null,
   "metadata": {},
   "outputs": [],
   "source": [
    "'''\n",
    "comment1\n",
    "comment2\n",
    "this is a comment. Let us execute this chunk with comment \n",
    "and the function \"print\"\n",
    "'''\n",
    "print (\"Hello World\")"
   ]
  },
  {
   "cell_type": "markdown",
   "metadata": {},
   "source": [
    "**Here, the triple quoted multi-line string is a part of a function:**"
   ]
  },
  {
   "cell_type": "code",
   "execution_count": null,
   "metadata": {},
   "outputs": [],
   "source": [
    "print('''This string literal\n",
    "has more than one\n",
    "line''')"
   ]
  },
  {
   "cell_type": "markdown",
   "metadata": {},
   "source": [
    "### Exercise:\n",
    "Write multiple comments with an arbitrary text. \n",
    "1. a comment before code statement\n",
    "2. a comment in-line with some code statement\n",
    "3. a multiline comment\n",
    "4. a multiline comment within the function print"
   ]
  },
  {
   "cell_type": "markdown",
   "metadata": {},
   "source": [
    "# 3. Python data types\n",
    "Data type in Python represent a type of value that determines which programatical operations can be performed on that data type. **Numeric, non-numeric and Boolean (logical)** data are the most used data types. However, each programming language has its own data type classification largely reflecting its programming philosophy.\n",
    "\n",
    "Python has the following standard or built-in data types:"
   ]
  },
  {
   "cell_type": "markdown",
   "metadata": {},
   "source": [
    "### Numeric data type\n",
    "A numeric data type is any representation of data which has a numeric value(s). Python identifies three numeric data types:\n",
    "\n",
    "<b>Integer</b>: Positive or negative whole numbers.\n",
    "<br>\n",
    "<b>Float</b>: Any real number with a floating point representation in which a fractional component is denoted by a decimal symbol or scientific notation. <br>\n",
    "<b>Complex</b>: Combination of real number and an imaginary number\n",
    "<br>\n",
    "\n",
    "In the following example, we construct a data table using the **DataFrame** function from the Pandas module. The table has 2 columns where one column contains the decimals (so called floats) and the other one contains the integers. We also assign deliberately one missing value and the column names ('Dezimalzahlen' and 'Ganzzahlen'). \n",
    "<a id='the_destination1'></a>"
   ]
  },
  {
   "cell_type": "code",
   "execution_count": null,
   "metadata": {},
   "outputs": [],
   "source": [
    "import pandas as pd\n",
    "df = pd.DataFrame({'Dezimalzahlen': [1.1,3.2,4.3,6.4,4.5, \"NaN\"],\n",
    "                   \"Ganzzahlen\": [1,4,2,9,6,6]})\n",
    "df"
   ]
  },
  {
   "cell_type": "markdown",
   "metadata": {},
   "source": [
    "**This is how we check data types in a data frame**"
   ]
  },
  {
   "cell_type": "code",
   "execution_count": null,
   "metadata": {},
   "outputs": [],
   "source": [
    "df.dtypes"
   ]
  },
  {
   "cell_type": "markdown",
   "metadata": {},
   "source": [
    "### Boolean data type\n",
    "A boolean data type is any representation of data which has one of two built-in values **True or False**. Notice that 'T' and 'F' are capital. If you writte true and false  using lower case, Python will throw an error. "
   ]
  },
  {
   "cell_type": "code",
   "execution_count": null,
   "metadata": {},
   "outputs": [],
   "source": [
    "ans = 10 < 9"
   ]
  },
  {
   "cell_type": "code",
   "execution_count": null,
   "metadata": {},
   "outputs": [],
   "source": [
    "print(ans)\n",
    "type(ans)"
   ]
  },
  {
   "cell_type": "code",
   "execution_count": null,
   "metadata": {},
   "outputs": [],
   "source": [
    "a = True\n",
    "print(a)\n",
    "type(a)"
   ]
  },
  {
   "cell_type": "markdown",
   "metadata": {},
   "source": [
    "### String data type\n",
    "\n",
    "A string data type is any representation of alphanumerical data (including special characters), put in a single, double or triple quote. <br>\n",
    "For simplicity we can say string data type is text data type."
   ]
  },
  {
   "cell_type": "code",
   "execution_count": null,
   "metadata": {},
   "outputs": [],
   "source": [
    "strvar = 'Yoga à Paris dans le parc magique de @holistikatulum '"
   ]
  },
  {
   "cell_type": "code",
   "execution_count": null,
   "metadata": {},
   "outputs": [],
   "source": [
    "print(strvar)\n",
    "type(strvar)"
   ]
  },
  {
   "cell_type": "markdown",
   "metadata": {},
   "source": [
    "If we use single or double quotes within a text then we define a string with triple quotes:"
   ]
  },
  {
   "cell_type": "code",
   "execution_count": null,
   "metadata": {},
   "outputs": [],
   "source": [
    "print('''This string has a single (') and a double (\") quote.''')"
   ]
  },
  {
   "cell_type": "markdown",
   "metadata": {},
   "source": [
    "If we define the same text with single or double quotes we will get an error: "
   ]
  },
  {
   "cell_type": "code",
   "execution_count": null,
   "metadata": {},
   "outputs": [],
   "source": [
    "print(\"This string has a single (') and a double (\") quote.\")"
   ]
  },
  {
   "cell_type": "markdown",
   "metadata": {},
   "source": [
    "## Data collection types"
   ]
  },
  {
   "cell_type": "markdown",
   "metadata": {},
   "source": [
    "### Sequence type\n",
    "A sequence is an ordered collection of same or different data types. Python has following built-in sequence data collection types:\n",
    "\n",
    "* <b>List</b> : A list object is an ordered collection of one or more data items, not necessarily of the same type, put in **square** brackets. **We can modify** a list due to its mutable nature. As lists are mutable these are variable in size.\n",
    "* <b>Tuple</b>: A tuple object is an ordered collection of one or more data items, not necessarily of the same type, put in **parentheses**. We **can't modify** a tuple due to its immutable nature. As tuples are immutable these are fixed in size.\n",
    "* <b>Set</b>: A set contains an unordered collection of unique and immutable objects. Sets unlike lists or tuples can't have multiple occurrences of the same element and are enclosed in **curly brackets**."
   ]
  },
  {
   "cell_type": "code",
   "execution_count": null,
   "metadata": {},
   "outputs": [],
   "source": [
    "lst = [34,22,'mao',44] # list\n",
    "tup = (22,'long','hao') # tuple\n",
    "st = {'foo', 65, 6+4j, 65, 'foo'} # set\n",
    "print(tup, lst, st)"
   ]
  },
  {
   "cell_type": "code",
   "execution_count": null,
   "metadata": {},
   "outputs": [],
   "source": [
    "print('data types: ', type(lst), type(tup), type(st))"
   ]
  },
  {
   "cell_type": "markdown",
   "metadata": {},
   "source": [
    "**Explanation: Ordered vs Unordered**\n",
    "\n",
    "* ordered datatype – data is retained in the order you insert them\n",
    "* unordered datatype – data is NOT retained in the order you insert them"
   ]
  },
  {
   "cell_type": "markdown",
   "metadata": {},
   "source": [
    "### Dictionary\n",
    "\n",
    "A dictionary object is an ordered collection of data in a \"key: value\" pair form. A collection of such pairs is enclosed in curly brackets."
   ]
  },
  {
   "cell_type": "code",
   "execution_count": null,
   "metadata": {},
   "outputs": [],
   "source": [
    "dic = {\"person 1\":\"Steve\", \"person 2\":\"Bill\", \"person 3\":\"Ram\", \"person 4\": \"Farha\"}\n",
    "dic"
   ]
  },
  {
   "cell_type": "code",
   "execution_count": null,
   "metadata": {},
   "outputs": [],
   "source": [
    "dic = {\"person 1\":[\"Steve\",\"Maray\"], \"person 2\":[\"Steve\",\"Jobs\"], \"person 3\":[\"Steve\",\"Jones\"], \n",
    "       \"person 4\":[\"Steve\",\"Stevenson\"]}\n",
    "dic"
   ]
  },
  {
   "cell_type": "code",
   "execution_count": null,
   "metadata": {},
   "outputs": [],
   "source": [
    "type(dic)"
   ]
  },
  {
   "cell_type": "markdown",
   "metadata": {},
   "source": [
    "Using dictionaries we can construct a table (dataframe). <br>\n",
    "(see next example or \n",
    "[our previous example](#the_destination1))"
   ]
  },
  {
   "cell_type": "markdown",
   "metadata": {},
   "source": [
    "### Data Frame\n",
    "A data frame represents a table, similar to an Excel spreadsheet, which is constructed from dictionaries. Here we construct a data frame with arbitrary real estate data:"
   ]
  },
  {
   "cell_type": "code",
   "execution_count": null,
   "metadata": {},
   "outputs": [],
   "source": [
    "df = pd.DataFrame({'Immobilienart': ['Wohnung', 'Reihenhaus', 'Bauland'], 'Gemeinde': \n",
    "                   ['Graz','Leibnitz', 'Gratwein'], 'PLZ': [8020, 8430, 8112], \n",
    "                   'Preis': [210000, 330000, 85000.55]})\n",
    "df"
   ]
  },
  {
   "cell_type": "code",
   "execution_count": null,
   "metadata": {},
   "outputs": [],
   "source": [
    "df.dtypes"
   ]
  },
  {
   "cell_type": "markdown",
   "metadata": {},
   "source": [
    "### Datetime\n",
    "In Python, date and time are not treated as a data types of their own, but using the built-in module named datetime or with the pandas function Timestamp, we can work with the date and time values. In the following example, an unformatted date is correctly formatted as a date using the Timestemp function:"
   ]
  },
  {
   "cell_type": "code",
   "execution_count": null,
   "metadata": {},
   "outputs": [],
   "source": [
    "dtm = pd.Timestamp('20180310')\n",
    "dtm"
   ]
  },
  {
   "cell_type": "code",
   "execution_count": null,
   "metadata": {},
   "outputs": [],
   "source": [
    "type(dtm)"
   ]
  },
  {
   "cell_type": "markdown",
   "metadata": {},
   "source": [
    "Example for formating date with the Python built-in module datetime:"
   ]
  },
  {
   "cell_type": "code",
   "execution_count": null,
   "metadata": {},
   "outputs": [],
   "source": [
    "from datetime import date\n",
    "# initializing constructor and passing arguments in the \n",
    "# format year, month, date\n",
    "my_date = date(1996, 12, 31)\n",
    "# my_date = date.today();\n",
    "print(\"Today is\", my_date)"
   ]
  },
  {
   "cell_type": "markdown",
   "metadata": {},
   "source": [
    "### Recapitulation: Use of brackets in the Python syntax\n",
    "\n",
    "* \"[ ]\" Brackets are used for lists and arrays. They are also used to retrieve a single or multiple items from a list or from a table or to assign a new value to an existing list.\n",
    "* \"( )\" Parentheses are used for calling functions, constructing functions and classes, calculations and for creating tuples. \n",
    "* \"{ }\" Braces are used to define a dictionary or a set."
   ]
  },
  {
   "cell_type": "markdown",
   "metadata": {},
   "source": [
    "### Indexing\n",
    "Indexing means accessing data items.\n",
    "To access data items in a list, you can use the square bracket notation.\n",
    "\n",
    "Note\n",
    "python lists are 0-indexed. So the first element is 0, second is 1, so on. So if the there are n elements in a list, the last element is n-1. "
   ]
  },
  {
   "cell_type": "markdown",
   "metadata": {},
   "source": [
    "### Referencing and modifying lists"
   ]
  },
  {
   "cell_type": "code",
   "execution_count": null,
   "metadata": {},
   "outputs": [],
   "source": [
    "# Let’s create a new list and assign it to a variable.\n",
    "a = [\"apples\", \"bananas\", \"oranges\", \"strawberries\", \"pears\"]\n",
    "a"
   ]
  },
  {
   "cell_type": "markdown",
   "metadata": {},
   "source": [
    "Let's return only specific values from the list by referencing the position of a value:"
   ]
  },
  {
   "cell_type": "code",
   "execution_count": null,
   "metadata": {},
   "outputs": [],
   "source": [
    "ff=a[1]; ll=a[-2]; gg=a[2:4];\n",
    "# call print function\n",
    "print(ff)\n",
    "print(ll)\n",
    "print(gg)"
   ]
  },
  {
   "cell_type": "markdown",
   "metadata": {},
   "source": [
    "Now let’s see what happens when we try to modify the first item of the list. Let’s change “apples” to “berries”."
   ]
  },
  {
   "cell_type": "code",
   "execution_count": null,
   "metadata": {},
   "outputs": [],
   "source": [
    "a[0] = \"berries\"\n",
    "a"
   ]
  },
  {
   "cell_type": "markdown",
   "metadata": {},
   "source": [
    "## Arrays in Python\n",
    "Arrays are used to store multiple values of the same type in one single variable. Array can be uni and multidimensional. Arrays have following properties:\n",
    "+ they consist of elements belonging to the same data type\n",
    "+ numerical arrays need to be declared.\n",
    "+ arrays with nummerical data types can handle arithmetic operations\n",
    "+ need to explicitly import a module for declaration\n",
    "+ declared arrays are more compact in memory size\n",
    "\n",
    "If we create a list by simply placing a series of quoted alphanumeric elements in square brackets we get an array of strings. "
   ]
  },
  {
   "cell_type": "code",
   "execution_count": null,
   "metadata": {},
   "outputs": [],
   "source": [
    "y = [\"one\", \"two\", \"three\", \"four\"]\n",
    "type(y)"
   ]
  },
  {
   "cell_type": "markdown",
   "metadata": {},
   "source": [
    "Thus, an array of strings is a list, but,"
   ]
  },
  {
   "cell_type": "markdown",
   "metadata": {},
   "source": [
    "in order to create an numerical array we need to declare it with specific function from either the array module (i.e., array.array()) or NumPy module (i.e., numpy.array()):"
   ]
  },
  {
   "cell_type": "code",
   "execution_count": null,
   "metadata": {},
   "outputs": [],
   "source": [
    "import numpy as np\n",
    "x = np.array((3,6,9,12))\n",
    "type(x)"
   ]
  },
  {
   "cell_type": "markdown",
   "metadata": {},
   "source": [
    "Let's see what happens if want to apply math function on an numerical array and on a list with numerical values:"
   ]
  },
  {
   "cell_type": "code",
   "execution_count": null,
   "metadata": {},
   "outputs": [],
   "source": [
    "x/3.5"
   ]
  },
  {
   "cell_type": "markdown",
   "metadata": {},
   "source": [
    "Let's create a list with numerical value:"
   ]
  },
  {
   "cell_type": "code",
   "execution_count": null,
   "metadata": {},
   "outputs": [],
   "source": [
    "z = [3, 6, 9, 12]\n",
    "type(z)"
   ]
  },
  {
   "cell_type": "markdown",
   "metadata": {},
   "source": [
    "If want to apply math function we got an error because z is a list:"
   ]
  },
  {
   "cell_type": "code",
   "execution_count": null,
   "metadata": {},
   "outputs": [],
   "source": [
    "z/3.5"
   ]
  },
  {
   "cell_type": "markdown",
   "metadata": {},
   "source": [
    "### Types of numerical arrays in Python"
   ]
  },
  {
   "cell_type": "markdown",
   "metadata": {},
   "source": [
    "In statistics, vertical or horizontal arrangement of numbers is called a **vector**. A **matrix** is the combination of horizontal and vertical vectors. That is, vector is one-dimensional  and matrix is two-dimensional arrangement of numbers. Let us examine these types of nummerical arrays.\n",
    "### Vectors and Matrices\n",
    "A one-dimensional horisontal vector:"
   ]
  },
  {
   "cell_type": "code",
   "execution_count": null,
   "metadata": {},
   "outputs": [],
   "source": [
    "v5a = np.arange(5) + 10         # A horisontal one-dimensional vector of length 5\n",
    "v5a"
   ]
  },
  {
   "cell_type": "markdown",
   "metadata": {},
   "source": [
    "Multiplication of two vectors of the same size produces a vector of the same size."
   ]
  },
  {
   "cell_type": "code",
   "execution_count": null,
   "metadata": {},
   "outputs": [],
   "source": [
    "v5d=v5a*v5a\n",
    "v5d"
   ]
  },
  {
   "cell_type": "markdown",
   "metadata": {},
   "source": [
    "To check the size of a vector use:"
   ]
  },
  {
   "cell_type": "code",
   "execution_count": null,
   "metadata": {},
   "outputs": [],
   "source": [
    "v5d.shape "
   ]
  },
  {
   "cell_type": "markdown",
   "metadata": {},
   "source": [
    "We can transpose a one-dimensional horisontal vector to vertical vector. However a new vector will be two-dimensional:"
   ]
  },
  {
   "cell_type": "code",
   "execution_count": null,
   "metadata": {},
   "outputs": [],
   "source": [
    "v5b=v5a[:,None]\n",
    "v5b"
   ]
  },
  {
   "cell_type": "markdown",
   "metadata": {},
   "source": [
    "We can transpose vertical vector back to horisontal using function **T**. However a new horisontal vector will be also two-dimensional:"
   ]
  },
  {
   "cell_type": "code",
   "execution_count": null,
   "metadata": {},
   "outputs": [],
   "source": [
    "v5a=v5b.T\n",
    "v5a"
   ]
  },
  {
   "cell_type": "markdown",
   "metadata": {},
   "source": [
    "The function newaxis allows us to create a two-dimensional vector ad hoc:"
   ]
  },
  {
   "cell_type": "code",
   "execution_count": null,
   "metadata": {},
   "outputs": [],
   "source": [
    "v5a = np.array([10, 11, 12, 13, 14])[np.newaxis] # A horisontal two-dimensional vector of length 5\n",
    "v5a"
   ]
  },
  {
   "cell_type": "markdown",
   "metadata": {},
   "source": [
    "#### Multiplication of a horisontal and a vertical vector produces matrix."
   ]
  },
  {
   "cell_type": "code",
   "execution_count": null,
   "metadata": {
    "scrolled": true
   },
   "outputs": [],
   "source": [
    "v5a*v5b"
   ]
  },
  {
   "cell_type": "markdown",
   "metadata": {},
   "source": [
    "**Let's transpose vertical vector back to horisontal:**"
   ]
  },
  {
   "cell_type": "code",
   "execution_count": null,
   "metadata": {},
   "outputs": [],
   "source": [
    "v5b=v5b.transpose()\n",
    "v5b"
   ]
  },
  {
   "cell_type": "markdown",
   "metadata": {},
   "source": [
    "**Let's now multiplicate both vectors:**"
   ]
  },
  {
   "cell_type": "code",
   "execution_count": null,
   "metadata": {},
   "outputs": [],
   "source": [
    "v5d=v5a*v5b\n",
    "v5d"
   ]
  },
  {
   "cell_type": "markdown",
   "metadata": {},
   "source": [
    "**As we can see, the product od two vectors of same dimension is a vector - not matrix**"
   ]
  },
  {
   "cell_type": "markdown",
   "metadata": {},
   "source": [
    "#### Multiplication of two matrices\n",
    "A matrix is two-dimensional rectangular array. We can apply math calculation with two matrices. Let's declare two simple matrices:"
   ]
  },
  {
   "cell_type": "code",
   "execution_count": null,
   "metadata": {},
   "outputs": [],
   "source": [
    "A = np.array([[1, 4, 5], \n",
    "             [-5, 8, 9],\n",
    "             [3, 7, 23]])\n",
    "A"
   ]
  },
  {
   "cell_type": "code",
   "execution_count": null,
   "metadata": {
    "scrolled": true
   },
   "outputs": [],
   "source": [
    "B = np.array([[6, 4, 2], \n",
    "             [9, -7, 19],\n",
    "             [11, 1, 16]])\n",
    "B"
   ]
  },
  {
   "cell_type": "markdown",
   "metadata": {},
   "source": [
    "Now we apply multiplication on two matrices:"
   ]
  },
  {
   "cell_type": "code",
   "execution_count": null,
   "metadata": {},
   "outputs": [],
   "source": [
    "R=A*B\n",
    "R"
   ]
  },
  {
   "cell_type": "code",
   "execution_count": null,
   "metadata": {},
   "outputs": [],
   "source": []
  }
 ],
 "metadata": {
  "kernelspec": {
   "display_name": "Python 3",
   "language": "python",
   "name": "python3"
  },
  "language_info": {
   "codemirror_mode": {
    "name": "ipython",
    "version": 3
   },
   "file_extension": ".py",
   "mimetype": "text/x-python",
   "name": "python",
   "nbconvert_exporter": "python",
   "pygments_lexer": "ipython3",
   "version": "3.6.8"
  }
 },
 "nbformat": 4,
 "nbformat_minor": 2
}
