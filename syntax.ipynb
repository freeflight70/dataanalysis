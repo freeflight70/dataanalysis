{
 "cells": [
  {
   "cell_type": "markdown",
   "metadata": {},
   "source": [
    "Course: scientific and empirical methods  \n",
    "Lecturer: Miroslav Despotovic"
   ]
  },
  {
   "cell_type": "markdown",
   "metadata": {},
   "source": [
    "# 1. Introduction"
   ]
  },
  {
   "cell_type": "markdown",
   "metadata": {},
   "source": [
    "## This course\n",
    "The aim of this course is to teach you in blended learning units how to deal with data and specific problems in the field of real estate and energy management using Python programming."
   ]
  },
  {
   "cell_type": "markdown",
   "metadata": {},
   "source": [
    "The concept of the course is structured as follows:\n",
    "\n",
    "\n",
    "- **Introduction**: presentation of syntax and programming methodologies with examples.\n",
    "- **Data analyses**: Treatment of specific problems to consolidate the learning content.\n",
    "- **Exercises**: Individual and group exercises\n",
    "- **Grading**: Group projects"
   ]
  },
  {
   "cell_type": "markdown",
   "metadata": {},
   "source": [
    "## Why Python?\n",
    "Python is one of the most popular and widely used high-level programming languages today.\n",
    "\n",
    "The Python language is relatively easy to learn, very flexible and is supported by the extensive standard library.\n",
    "Python offers the possibility of object-oriented programming and writing complex software systems.  \n",
    "The Python programming language is widely used especially in the field of **data analysis and machine learning**."
   ]
  },
  {
   "cell_type": "markdown",
   "metadata": {},
   "source": [
    "## Code editing"
   ]
  },
  {
   "cell_type": "markdown",
   "metadata": {},
   "source": [
    "Similar to a natural language, a programming language has a certain vocabulary (**keywords**) and a grammar (**syntax**), according to whose rules the program code is to be formed. The sentences in a programming language are the syntactically correct instructions. \n",
    "\n",
    "The code can be written with the help of a code editor software, e.g. PyCharm, Spyder, Visual Studio. or via Webbrowser with Jupyter Notebook. We will use Jupyter Notebook during this course!<br> \n",
    "https://www.jetbrains.com/pycharm/ <br> \n",
    "https://www.spyder-ide.org/ <br> \n",
    "https://visualstudio.microsoft.com/vs/features/python/ <br>\n",
    "https://jupyter.org/ <br>\n",
    "https://www.w3schools.com/python/default.asp\n"
   ]
  },
  {
   "cell_type": "markdown",
   "metadata": {},
   "source": [
    "## Working with Jupyter Notebook"
   ]
  },
  {
   "cell_type": "markdown",
   "metadata": {},
   "source": [
    "The **Jupyter Notebook**, as part of the IPython environment, is a **standard tool** for editing and executing code, especially in the area of **data analysis**.\n",
    "\n",
    "Jupyter Notebook is a free, web-based notebook that can execute both texts and codes. The software is a universal tool for over 40 programming languages as well as for documenting scientific papers within a unified web interface. It is primarily used as a web-based extension of IPython for running Python code.\n",
    "\n",
    "The notebook consists of individual cells that can display different types of content, such as source codes, texts in HTML or Markdown, images or mathematical formulas (in Latex).\n"
   ]
  },
  {
   "cell_type": "markdown",
   "metadata": {},
   "source": [
    "**The individual steps for installing Python and Python modules, including Jupyter Notebook, can be found on the course website on the Moodle!**"
   ]
  },
  {
   "cell_type": "markdown",
   "metadata": {},
   "source": [
    "### Creating a notebook\n",
    "+ To create a new notebook, go to \"File\" in the menu and select \"New Notebook\".\n",
    "+ To save and name a notebook, go to \"File\" in the menu and select \"Save as\"."
   ]
  },
  {
   "cell_type": "markdown",
   "metadata": {},
   "source": [
    "### Creating cells in a notebook\n",
    "#### Each cell in a notebook is called a \"chunk\".\n",
    "+ To insert a chunk, go to \"Insert\" in the menu.\n",
    "+ To delete, copy or paste chunk(s), click on \"Edit\" in the menu."
   ]
  },
  {
   "cell_type": "markdown",
   "metadata": {},
   "source": [
    "### Exercise:\n",
    "1. Insert 2 new chunks in a sequence.\n",
    "2. Copy the 2 chunks and paste them.\n",
    "3. Delete 2 empty chunks."
   ]
  },
  {
   "cell_type": "markdown",
   "metadata": {},
   "source": [
    "### Executing chunks\n",
    "The lines of text in a notebook are called \"markdown\" cells (chunks). <br>\n",
    "+ To make a chunk with the text, write text in a chunk and **select \"Markdown\" in the Dropbox on the menu**. \n",
    "Then execute chunk by clicking \" Run\" in the menu.\n",
    "<br>\n",
    "+ To make a chunk with the code, write code in a chunk and **select \"Code\" in the Dropbox on the menu**. \n",
    "Then execute chunk by clicking \" Run\" in the menu."
   ]
  },
  {
   "cell_type": "markdown",
   "metadata": {},
   "source": [
    "### Exercise:\n",
    "1. Write some text in an empty chunk\n",
    "2. Execute chunk"
   ]
  },
  {
   "cell_type": "markdown",
   "metadata": {},
   "source": [
    "### Markdown rules for notebooks"
   ]
  },
  {
   "cell_type": "markdown",
   "metadata": {},
   "source": [
    "It is possible to format the text in a notebook in the same way as in an ordinary text editor. There are text formatting rules that must be followed. You can find a cheatsheet for this under: <br>\n",
    "https://www.ibm.com/docs/en/watson-studio-local/1.2.3?topic=notebooks-markdown-jupyter-cheatsheet"
   ]
  },
  {
   "cell_type": "markdown",
   "metadata": {},
   "source": [
    "#### Headings\n",
    "To create a heading in the text, write some text and place hash followed with space before the text. \n",
    "1. The chunk must be formatted as Heading or Markdown.  \n",
    "(Multiple hash marks reduce the size of the heading.)\n",
    "2. Then execute the chunk by clicking \"Run\" in the menu."
   ]
  },
  {
   "cell_type": "markdown",
   "metadata": {},
   "source": [
    "> Further rules for bullet points, numbering, bold and italics, etc., can be found in the cheatsheet. "
   ]
  },
  {
   "cell_type": "markdown",
   "metadata": {},
   "source": [
    "#### Raw NBConvert\n",
    "If you want to write output directly or put code that you don’t want to run, select Raw NBConcert in the dropdown. Raw cells will be not executed in the notebook.\n"
   ]
  },
  {
   "cell_type": "raw",
   "metadata": {},
   "source": [
    "# print data frame size before - after\n",
    "print('original size:', df1.shape, 'NaN reduced size:', df2.shape)"
   ]
  },
  {
   "cell_type": "markdown",
   "metadata": {},
   "source": [
    "### Exercise:\n",
    "Write some text in an empty chunk with\n",
    "1. numberings\n",
    "2. bullet points\n",
    "3. some bold words"
   ]
  },
  {
   "cell_type": "markdown",
   "metadata": {},
   "source": [
    "### Importing images\n",
    "To import an image go to menu: edit ==> insert image ==> select  a file\n"
   ]
  },
  {
   "cell_type": "markdown",
   "metadata": {},
   "source": [
    "# 2. Python: modules & syntax\n",
    "\n"
   ]
  },
  {
   "cell_type": "markdown",
   "metadata": {},
   "source": [
    "### 2.1 Modules\n",
    "Most functions in Python are packed in so-called modules. A module provides functions that serve a specific purpose, such as the \"math\" module for calculating mathematical functions or \"seaborn\" module for drawig diagrams. Two types of modules exist in Python:\n",
    "- Global modules: Python packages that are already installed system-wide (built-in module as the part of Python Standard Library like math or calendar modules).\n",
    "- Local modules: Packages with functions that are only available in the included package and must be installed separately (e.g. numpay, matplotlib)."
   ]
  },
  {
   "cell_type": "markdown",
   "metadata": {},
   "source": [
    "\n",
    "\n",
    "#### The Python Standard Library\n",
    "describes the standard module library that is distributed with Python. It also describes some of the optional components that are commonly included in Python distributions.\n",
    "https://docs.python.org/3/library/"
   ]
  },
  {
   "cell_type": "markdown",
   "metadata": {},
   "source": [
    "#### Importing modules into Python session"
   ]
  },
  {
   "cell_type": "markdown",
   "metadata": {},
   "source": [
    "Every time we start the Jupyter and open a notebook, we start a working session.\n",
    "While the changes in the code can always be saved, all executed functions and imported modules lose their validity as soon as the notebook is closed. I.e. they are active only during the session.<br>\n",
    "To import a local module during the session use the **import** function. "
   ]
  },
  {
   "cell_type": "code",
   "execution_count": null,
   "metadata": {},
   "outputs": [],
   "source": [
    "import pandas"
   ]
  },
  {
   "cell_type": "markdown",
   "metadata": {},
   "source": [
    "It is now possible to directly reference a function from pandas module, e.g. function DataFrame as **pandas.DataFrame** in the notebook. <br>\n",
    "We can assign an abbreviated alias to the function name when importing to make coding during the session a little easier for us."
   ]
  },
  {
   "cell_type": "code",
   "execution_count": null,
   "metadata": {},
   "outputs": [],
   "source": [
    "import pandas as pd"
   ]
  },
  {
   "cell_type": "markdown",
   "metadata": {},
   "source": [
    "It is now possible to directly reference function DataFrame from pandas module as **pd.DataFrame** in the notebook, instead of pandas.DataFrame. <br>\n",
    "Also, we do not need to import the whole module but only any desired function from a module e.g."
   ]
  },
  {
   "cell_type": "code",
   "execution_count": null,
   "metadata": {},
   "outputs": [],
   "source": [
    "from pandas import DataFrame"
   ]
  },
  {
   "cell_type": "markdown",
   "metadata": {},
   "source": [
    "It is now possible to directly reference function DataFrame from pandas module as **DataFrame** in my notebook without prefix pandas or pd.\n",
    "\n",
    "It is also possible to import collection (class) of functions from certain module: "
   ]
  },
  {
   "cell_type": "code",
   "execution_count": null,
   "metadata": {},
   "outputs": [],
   "source": [
    "import matplotlib.pyplot as plt"
   ]
  },
  {
   "cell_type": "markdown",
   "metadata": {},
   "source": [
    "Matplotlib is a comprehensive library for creating visualizations in Python. Here is each function from the pyplot function class dedicated to make some change to a figure: e.g., creates a figure, creates a plotting area in a figure, plots some lines in a plotting area, decorates the plot with labels, etc."
   ]
  },
  {
   "cell_type": "markdown",
   "metadata": {},
   "source": [
    "### Exercise:\n",
    "Import\n",
    "1. numpy module\n",
    "2. numpy module with alias np\n",
    "3. function mean from numpy module"
   ]
  },
  {
   "cell_type": "markdown",
   "metadata": {},
   "source": [
    "### 2.2 Syntax"
   ]
  },
  {
   "cell_type": "markdown",
   "metadata": {},
   "source": [
    "#### The Python Language Reference\n",
    "describes the syntax and “core semantics” of the language. \n",
    "https://docs.python.org/3/reference/index.html#reference-index"
   ]
  },
  {
   "cell_type": "markdown",
   "metadata": {},
   "source": [
    "A programming language is a language with a fixed syntax that allows only the special combinations of selected symbols and keywords. The keywords are the \"vocabularies\" of the language with a fixed meaning, which cannot be used for other purposes (e.g. as names). The syntax of a programming language covers possibilities for definition of different data structures (describing of data), control structures (controlling the program flow) and instructions."
   ]
  },
  {
   "cell_type": "markdown",
   "metadata": {},
   "source": [
    "#### Python Keywords\n",
    "Python 3.x interpreter has 33 keywords defined in it. Since they have a predefined meaning attached, they **cannot be used as identifier** for variable names, function names, or any other identifiers. With the function help we can list all available keywords:"
   ]
  },
  {
   "cell_type": "code",
   "execution_count": null,
   "metadata": {},
   "outputs": [],
   "source": [
    "help(\"keywords\")"
   ]
  },
  {
   "cell_type": "markdown",
   "metadata": {},
   "source": [
    "#### Python identifiers\n",
    "\n",
    "Apart from keywords, a Python program can have variables, functions, classes, modules, etc. An identifier is the **user-defined name** given to these programming elements. <br>\n",
    "The main advantage of using identifiers is to: \n",
    "+ distinguish or identify one programming element from another,\n",
    "+ abbreviate the code and make it more readable, \n",
    "+ make it easier to refer from one element to another, and \n",
    "+ adapt the code to your own coding design. <br>\n",
    "\n",
    "There are some **important rules for writing identifiers**:"
   ]
  },
  {
   "cell_type": "markdown",
   "metadata": {},
   "source": [
    "1. The Python identifier can be made with a combination of lowercase or uppercase letters, digits or an underscore.\n",
    "\n",
    "These are the valid characters.\n",
    "\n",
    "+ Lowercase letters (a to z)\n",
    "+ Uppercase letters (A to Z)\n",
    "+ Digits (0 to 9)\n",
    "+ Underscore (_) <br>\n",
    "\n",
    "Examples:\n",
    "- num1\n",
    "- FLAG\n",
    "- get_user_name\n",
    "- myTable\n",
    "- _1234\n",
    "- df"
   ]
  },
  {
   "cell_type": "markdown",
   "metadata": {},
   "source": [
    "2. An identifier cannot start with a digit. If we create an identifier that starts with a digit then we will get a syntax error.\n",
    "3. We also cannot use special symbols in the identifiers name.\n",
    "\n",
    "Symbols like ( !, @, #, $, %, . ) are invalid. <br>\n",
    "Example for valid identifier named as \"num\" as variable of integer type that holds the value 10 in combination with keyword **while** to create a loop for displaying the values of variable \"num\" as long as they are greater than 5:"
   ]
  },
  {
   "cell_type": "code",
   "execution_count": null,
   "metadata": {},
   "outputs": [],
   "source": [
    "num = 10\n",
    "while num>5:\n",
    "    print(num)\n",
    "    num -= 1"
   ]
  },
  {
   "cell_type": "markdown",
   "metadata": {},
   "source": [
    "#### Assignment of an identifier in a Python statement\n",
    "\n",
    "Each code line terminated by a new line in a Python script is called a statement. Here are examples for statements with identifiers for variables with numeric and string values:"
   ]
  },
  {
   "cell_type": "code",
   "execution_count": null,
   "metadata": {},
   "outputs": [],
   "source": [
    "msg=\"Willkommen an der FH Kufstein\"\n",
    "code=842744"
   ]
  },
  {
   "cell_type": "markdown",
   "metadata": {},
   "source": [
    "Now we can print variable contents by simply using the identifier:"
   ]
  },
  {
   "cell_type": "code",
   "execution_count": null,
   "metadata": {},
   "outputs": [],
   "source": [
    "print(msg)\n",
    "print(code)"
   ]
  },
  {
   "cell_type": "markdown",
   "metadata": {},
   "source": [
    "Just as in other programming languages such as C/C++/C#, R, or Matlab a semicolon ; denotes the end of a statement in the current line. So, we also can write multiple statements in a single line."
   ]
  },
  {
   "cell_type": "code",
   "execution_count": null,
   "metadata": {},
   "outputs": [],
   "source": [
    "msg=\"Hello World\"; code=123; name=\"Steve\""
   ]
  },
  {
   "cell_type": "markdown",
   "metadata": {},
   "source": [
    "However, you can show the text spread over more than one lines to be a single statement by using the backslash (\\) as a continuation character. This is a **multiline statement**. Look at the following examples:"
   ]
  },
  {
   "cell_type": "code",
   "execution_count": null,
   "metadata": {},
   "outputs": [],
   "source": [
    "msg=\"Hello. Welcome to \\\n",
    "data analysis \\\n",
    "course with Python.\"\n",
    "aa=print(msg)\n",
    "aa"
   ]
  },
  {
   "cell_type": "markdown",
   "metadata": {},
   "source": [
    "What have we done here?\n",
    "+ we have defined an identifier (msg) for a string variable with text\n",
    "+ we have defined another identifier (aa) for printing the string variable\n",
    "+ we have returned the print function along with its execution by simply using identifier (aa).\n",
    "\n",
    "Another example for a multiline statement:"
   ]
  },
  {
   "cell_type": "code",
   "execution_count": null,
   "metadata": {},
   "outputs": [],
   "source": [
    "a = 1 + 2 + 3 + \\\n",
    "    4 + 5 + 6 + \\\n",
    "    7 + 8 + 9\n",
    "a"
   ]
  },
  {
   "cell_type": "markdown",
   "metadata": {},
   "source": [
    "### Exercise:\n",
    "Write 3 identifiers with an arbitrary content and name them whatever you like. While naming them, use and combine lowercase letters (a to z), uppercase letters (A to Z), digits (0 to 9) and underscore (_) \n",
    "1. an numerical identifier\n",
    "2. an string (text) identifier\n",
    "3. an identifier for print function. Execute identifier"
   ]
  },
  {
   "cell_type": "markdown",
   "metadata": {},
   "source": [
    "#### Indents in Python\n",
    "\n",
    "In Python, indentations are used to define the code blocks instead of using curly brackets \"{\". Commonly, indentations are written with 1,2 or more commonly **4 spaces**. The line before the block always ends with a colon (:).\n",
    "The code block should be marked by the same number of spaces in the indentation, such as if four spaces are used, then it should be consistent for the entire project. Here we construct a custom function with an indentation of 4 spaces:"
   ]
  },
  {
   "cell_type": "code",
   "execution_count": null,
   "metadata": {},
   "outputs": [],
   "source": [
    "def SagServus(name):\n",
    "    print(\"Servus \",name)"
   ]
  },
  {
   "cell_type": "code",
   "execution_count": null,
   "metadata": {},
   "outputs": [],
   "source": [
    "SagServus(\"Markus\")"
   ]
  },
  {
   "cell_type": "markdown",
   "metadata": {},
   "source": [
    "Here we utilize a multiple indentation with an **incorrectly** typed indent and therefore get an **error message**:"
   ]
  },
  {
   "cell_type": "code",
   "execution_count": null,
   "metadata": {},
   "outputs": [],
   "source": [
    "newName=\"Stefan\"\n",
    "if not newName==\"Stefan\":  \n",
    "    print(\"falscher User\")\n",
    "else:  \n",
    "    SagServus(newName)\n",
    "     print(\"Du bist jetzt eingeloggt\")"
   ]
  },
  {
   "cell_type": "markdown",
   "metadata": {},
   "source": [
    "#### We correct the indent and the statement can be executed:"
   ]
  },
  {
   "cell_type": "code",
   "execution_count": null,
   "metadata": {},
   "outputs": [],
   "source": [
    "newName=\"Stefan\"\n",
    "if not newName==\"Stefan\":  \n",
    "    print(\"falscher user\")\n",
    "else:  \n",
    "    SagServus(newName)\n",
    "    print(\"Du bist jetzt eingeloggt\")"
   ]
  },
  {
   "cell_type": "markdown",
   "metadata": {},
   "source": [
    "#### Dealing with errors in Python\n",
    "Python can return various types of errors. Mostly they are the syntax errors or errors related to a module that cannot be accessed. When an error occurs, the compiler outputs an error message, the error position and an explanatory text. A list of all existing errors in Python and their interpretation can be found at the following link: \n",
    "https://docs.python.org/3/library/exceptions.html"
   ]
  },
  {
   "cell_type": "markdown",
   "metadata": {},
   "source": [
    "#### Comments in Python\n",
    "\n",
    "Comments in the Python code are very important because they help to understand the purpose of individual statements or blocks within the code. In a Python script, the symbol # indicates the start of a comment line. It is effective till the end of the line in the editor. If # is the first character of the line, then the entire line is a comment. A comment can be also applied in the middle of a line. The text before it is a valid Python expression, while the text following is treated as a comment."
   ]
  },
  {
   "cell_type": "code",
   "execution_count": null,
   "metadata": {},
   "outputs": [],
   "source": [
    "# this is a comment. Let us execute function \"print\"\n",
    "print (\"Hello World\")\n",
    "print (\"Welcome to Python Tutorial\") #this is also a comment but after a statement."
   ]
  },
  {
   "cell_type": "markdown",
   "metadata": {},
   "source": [
    "**A triple quoted multi-line string is also treated as a comment if it is not a part of a function or a class.**"
   ]
  },
  {
   "cell_type": "code",
   "execution_count": null,
   "metadata": {},
   "outputs": [],
   "source": [
    "'''\n",
    "comment1\n",
    "comment2\n",
    "this is a comment. Let us execute this chunk with comment \n",
    "and the function \"print\"\n",
    "'''\n",
    "print (\"Hello World\")"
   ]
  },
  {
   "cell_type": "markdown",
   "metadata": {},
   "source": [
    "**Here, the triple quoted multi-line string is a part of a function:**"
   ]
  },
  {
   "cell_type": "code",
   "execution_count": null,
   "metadata": {},
   "outputs": [],
   "source": [
    "print('''This string literal\n",
    "has more than one\n",
    "line''')"
   ]
  },
  {
   "cell_type": "markdown",
   "metadata": {},
   "source": [
    "### Exercise:\n",
    "Write comments with an arbitrary content. \n",
    "1. a comment before some code statement\n",
    "2. a comment in-line with some code statement\n",
    "3. a multiline comment\n",
    "4. a multiline comment within the function print"
   ]
  },
  {
   "cell_type": "markdown",
   "metadata": {},
   "source": [
    "# 3. Python data types\n",
    "Data types in Python represent a kind of value which determines what operations can be performed on that data. Numeric, non-numeric and Boolean (true/false) data are the most used data types. However, each programming language has its own data type classification largely reflecting its programming philosophy.\n",
    "\n",
    "Python has the following standard or built-in data types:"
   ]
  },
  {
   "cell_type": "markdown",
   "metadata": {},
   "source": [
    "### Numeric\n",
    "A numeric data type is any representation of data which has a numeric value(s). Python identifies three types of numbers:\n",
    "\n",
    "<b>Integer</b>: Positive or negative whole numbers (without a fractional part)\n",
    "<br>\n",
    "<b>Float</b>: Any real number with a floating point representation in which a fractional component is denoted by a decimal symbol or scientific notation. <br>\n",
    "<b>Complex</b>: Combination of real number and an imaginary number\n",
    "<br>\n",
    "\n",
    "In the following example, we construct a data table using the DataFrame function from the Pandas module. The table has 2 columns where one column contains the decimals (so called floats) and the other one contains the integers. We also assign the column names ('float' and 'int'). \n",
    "<a id='the_destination1'></a>"
   ]
  },
  {
   "cell_type": "code",
   "execution_count": null,
   "metadata": {},
   "outputs": [],
   "source": [
    "import pandas as pd\n",
    "df = pd.DataFrame({'float': [1.0,3.2,4.3,6.0,4.5],\n",
    "                   \"int\": [1,4,2,9,6]})\n",
    "df"
   ]
  },
  {
   "cell_type": "markdown",
   "metadata": {},
   "source": [
    "**Show data types**"
   ]
  },
  {
   "cell_type": "code",
   "execution_count": null,
   "metadata": {},
   "outputs": [],
   "source": [
    "df.dtypes"
   ]
  },
  {
   "cell_type": "markdown",
   "metadata": {},
   "source": [
    "**Show only first two rows**"
   ]
  },
  {
   "cell_type": "code",
   "execution_count": null,
   "metadata": {},
   "outputs": [],
   "source": [
    "df.head(2)"
   ]
  },
  {
   "cell_type": "markdown",
   "metadata": {},
   "source": [
    "### Boolean\n",
    "A boolean data type is any representation of data which has one of two built-in values True or False. Notice that 'T' and 'F' are capital. true and false are not valid booleans and Python will throw an error for them."
   ]
  },
  {
   "cell_type": "code",
   "execution_count": null,
   "metadata": {},
   "outputs": [],
   "source": [
    "ans = 10 < 9"
   ]
  },
  {
   "cell_type": "code",
   "execution_count": null,
   "metadata": {},
   "outputs": [],
   "source": [
    "print(ans)\n",
    "type(ans)"
   ]
  },
  {
   "cell_type": "code",
   "execution_count": null,
   "metadata": {},
   "outputs": [],
   "source": [
    "a = True\n",
    "print(a)\n",
    "type(a)"
   ]
  },
  {
   "cell_type": "markdown",
   "metadata": {},
   "source": [
    "### Strings\n",
    "\n",
    "A string data type is any representation of alphanumerical data (including special characters), put in a single, double or triple quote. <br>\n",
    "A string data type == text data type."
   ]
  },
  {
   "cell_type": "code",
   "execution_count": null,
   "metadata": {},
   "outputs": [],
   "source": [
    "strvar = 'via Instagram : Yoga à Paris dans le parc magique de @holistikatulum '"
   ]
  },
  {
   "cell_type": "code",
   "execution_count": null,
   "metadata": {},
   "outputs": [],
   "source": [
    "print(strvar)\n",
    "type(strvar)"
   ]
  },
  {
   "cell_type": "markdown",
   "metadata": {},
   "source": [
    "If we use single or double quotes within a text then we define a string with triple quotes:"
   ]
  },
  {
   "cell_type": "code",
   "execution_count": null,
   "metadata": {},
   "outputs": [],
   "source": [
    "print('''This string has a single (') and a double (\") quote.''')"
   ]
  },
  {
   "cell_type": "markdown",
   "metadata": {},
   "source": [
    "### Sequence type\n",
    "A sequence is an ordered collection of same or different data types. Python has following built-in sequence data types:\n",
    "\n",
    "* <b>List</b> : A list object is an ordered collection of one or more data items, not necessarily of the same type, put in square brackets. **We can modify** a list due to its mutable nature. As lists are mutable these are variable in size.\n",
    "* <b>Tuple</b>: A tuple object is an ordered collection of one or more data items, not necessarily of the same type, put in parentheses. **We can't modify** a tuple due to its immutable nature. As tuples are immutable these are fixed in size.\n",
    "* <b>Set</b>: A set contains an unordered collection of unique and immutable objects. Sets unlike lists or tuples can't have multiple occurrences of the same element and are enclosed in curly brackets."
   ]
  },
  {
   "cell_type": "code",
   "execution_count": null,
   "metadata": {},
   "outputs": [],
   "source": [
    "lst = [34,22,'mao',44] # list\n",
    "tup = (22,'long','hao') # tuple\n",
    "st = {'foo', 65, 6+4j, 65, 'foo'} # set\n",
    "print(tup, lst, st)"
   ]
  },
  {
   "cell_type": "code",
   "execution_count": null,
   "metadata": {},
   "outputs": [],
   "source": [
    "print('data types: ', type(lst), type(tup), type(st))"
   ]
  },
  {
   "cell_type": "markdown",
   "metadata": {},
   "source": [
    "**Ordered vs Unordered**\n",
    "\n",
    "* ordered datatype – data is retained in the order you insert them\n",
    "* unordered datatype – data is NOT retained in the order you insert them"
   ]
  },
  {
   "cell_type": "markdown",
   "metadata": {},
   "source": [
    "### Dictionary\n",
    "\n",
    "A dictionary object is an ordered collection of data in a \"key: value\" pair form. A collection of such pairs is enclosed in curly brackets."
   ]
  },
  {
   "cell_type": "code",
   "execution_count": null,
   "metadata": {},
   "outputs": [],
   "source": [
    "dic = {1:\"Steve\", 2:\"Bill\", 3:\"Ram\", 4: \"Farha\"}\n",
    "dic"
   ]
  },
  {
   "cell_type": "code",
   "execution_count": null,
   "metadata": {},
   "outputs": [],
   "source": [
    "type(dic)"
   ]
  },
  {
   "cell_type": "markdown",
   "metadata": {},
   "source": [
    "Using dictionaries we can construct a table (dataframe). <br>\n",
    "(see next or \n",
    "[our previous example](#the_destination1))"
   ]
  },
  {
   "cell_type": "markdown",
   "metadata": {},
   "source": [
    "### Data Frame\n",
    "A data frame represents a table, similar to an Excel spreadsheet. Here we construct a data frame with real estate data using dictionaries:"
   ]
  },
  {
   "cell_type": "code",
   "execution_count": null,
   "metadata": {},
   "outputs": [],
   "source": [
    "df = pd.DataFrame({'Immobilienart': ['Wohnung', 'Reihenhaus', 'Bauland'], 'Stadt': \n",
    "                   ['Graz','Leibnitz', 'Kitzeck'], 'PLZ': [8020, 8430, 8442]})\n",
    "df"
   ]
  },
  {
   "cell_type": "code",
   "execution_count": null,
   "metadata": {},
   "outputs": [],
   "source": [
    "df.dtypes"
   ]
  },
  {
   "cell_type": "markdown",
   "metadata": {},
   "source": [
    "### Datetime\n",
    "In Python, date and time are not treated as a data types of their own, but with built-in module named datetime or with the pandas function Timestamp, we can work with the date and time values. "
   ]
  },
  {
   "cell_type": "code",
   "execution_count": null,
   "metadata": {},
   "outputs": [],
   "source": [
    "dtm = pd.Timestamp('20180310')\n",
    "dtm"
   ]
  },
  {
   "cell_type": "code",
   "execution_count": null,
   "metadata": {},
   "outputs": [],
   "source": [
    "type(dtm)"
   ]
  },
  {
   "cell_type": "markdown",
   "metadata": {},
   "source": [
    "Example with the Python built-in module datetime:"
   ]
  },
  {
   "cell_type": "code",
   "execution_count": null,
   "metadata": {},
   "outputs": [],
   "source": [
    "from datetime import date\n",
    "# initializing constructor and passing arguments in the \n",
    "# format year, month, date\n",
    "my_date = date(1996, 12, 31)\n",
    "print(\"Date passed as argument is\", my_date)"
   ]
  },
  {
   "cell_type": "markdown",
   "metadata": {},
   "source": [
    "### Meaning of brackets in Python syntax\n",
    "\n",
    "* \"[ ]\" Brackets are used for lists. They are also used to retrieve a single or multiple items from a list or from a table, to retrive items from the end of the list or to assign a new value to an existing list.\n",
    "* \"( )\" Parentheses are used for calling functions, construct function and classes, calculation and for creating tuples. \n",
    "* \"{ }\" Braces are used to define a dictionary or a set."
   ]
  },
  {
   "cell_type": "code",
   "execution_count": null,
   "metadata": {},
   "outputs": [],
   "source": [
    "# Let’s create a new list and assign it to a variable.\n",
    "a = [\"apples\", \"bananas\", \"oranges\", \"strawberries\", \"pears\"]\n",
    "a"
   ]
  },
  {
   "cell_type": "markdown",
   "metadata": {},
   "source": [
    "Let's return only specific values from the list"
   ]
  },
  {
   "cell_type": "code",
   "execution_count": null,
   "metadata": {},
   "outputs": [],
   "source": [
    "ff=a[1]; ll=a[-2]\n",
    "\n",
    "print(ff)\n",
    "print(ll)"
   ]
  },
  {
   "cell_type": "markdown",
   "metadata": {},
   "source": [
    "Now let’s see what happens when we try to modify the first item of the list. Let’s change “apples” to “berries”."
   ]
  },
  {
   "cell_type": "code",
   "execution_count": null,
   "metadata": {},
   "outputs": [],
   "source": [
    "a[0] = \"berries\"\n",
    "a"
   ]
  },
  {
   "cell_type": "markdown",
   "metadata": {},
   "source": [
    "## Arrays in Python\n",
    "Arrays are used to store multiple values of the same type in one single variable. Array can be uni and multidimensional. Arrays have similar construction as lists, but array differ as:\n",
    "+ arrays need to be declared.\n",
    "+ they can handle arithmetic operations\n",
    "+ need to explicitly import a module for declaration\n",
    "+ consists of elements belonging to the same data type\n",
    "+ more compact in memory size\n",
    "\n",
    "We can create a list by simply enclosing a sequence of elements into square brackets. In order to create an array we need a specific function from either the array module (i.e., array.array()) or NumPy package (i.e., numpy.array())"
   ]
  },
  {
   "cell_type": "code",
   "execution_count": null,
   "metadata": {},
   "outputs": [],
   "source": [
    "import numpy as np\n",
    "x = np.array((3,6,9,12))\n",
    "type(x)"
   ]
  },
  {
   "cell_type": "code",
   "execution_count": null,
   "metadata": {},
   "outputs": [],
   "source": [
    "y = [3, 6, 9, 12]\n",
    "type(y)"
   ]
  },
  {
   "cell_type": "markdown",
   "metadata": {},
   "source": [
    "Let's see what happens if want to apply math function on an array resp. a list"
   ]
  },
  {
   "cell_type": "code",
   "execution_count": null,
   "metadata": {},
   "outputs": [],
   "source": [
    "x/3.5"
   ]
  },
  {
   "cell_type": "markdown",
   "metadata": {},
   "source": [
    "Hier we got an error:"
   ]
  },
  {
   "cell_type": "code",
   "execution_count": null,
   "metadata": {},
   "outputs": [],
   "source": [
    "y/3.5"
   ]
  },
  {
   "cell_type": "markdown",
   "metadata": {},
   "source": [
    "### Types of numerical arrays in Python\n",
    "Besides simple numeric arrays, as in the example before, there are also numeric matrices. A matrix is a two-dimensional rectangular array. We can apply math calculation with matrices. Let's construct 2 simple matrices:"
   ]
  },
  {
   "cell_type": "code",
   "execution_count": null,
   "metadata": {},
   "outputs": [],
   "source": [
    "M = np.arange(5 * 6).reshape(5, 6, order='F') # A matrix af shape (5, 6)\n",
    "M"
   ]
  },
  {
   "cell_type": "code",
   "execution_count": null,
   "metadata": {},
   "outputs": [],
   "source": [
    "N = np.arange(5 * 6).reshape(5, 6, order='F') # A matrix af shape (5, 6)\n",
    "N"
   ]
  },
  {
   "cell_type": "code",
   "execution_count": null,
   "metadata": {},
   "outputs": [],
   "source": [
    "R=M*N\n",
    "R"
   ]
  },
  {
   "cell_type": "markdown",
   "metadata": {},
   "source": [
    "A vertical or horizontal arrangement of numbers is called a vector in statistics. That is, a matrix is the combination of horizontal and vertical vectors, thus two-dimensional. Now let us examine types of vectors."
   ]
  },
  {
   "cell_type": "code",
   "execution_count": null,
   "metadata": {},
   "outputs": [],
   "source": [
    "v5a = np.arange(5) + 10         # A horisontal vector of length 5\n",
    "v5a"
   ]
  },
  {
   "cell_type": "code",
   "execution_count": null,
   "metadata": {},
   "outputs": [],
   "source": [
    "v5b = v5a[:, None]                  # A vertical vector of length 5\n",
    "v5b"
   ]
  },
  {
   "cell_type": "markdown",
   "metadata": {},
   "source": [
    "**Multiplication of an horisontal and a vertical vector produces matrix.**"
   ]
  },
  {
   "cell_type": "code",
   "execution_count": null,
   "metadata": {},
   "outputs": [],
   "source": [
    "v5c=v5a*v5b\n",
    "v5c"
   ]
  },
  {
   "cell_type": "markdown",
   "metadata": {},
   "source": [
    "**Let's transpose vertical vector to horisontal:**"
   ]
  },
  {
   "cell_type": "code",
   "execution_count": null,
   "metadata": {},
   "outputs": [],
   "source": [
    "v5b=v5b.transpose()\n",
    "v5b"
   ]
  },
  {
   "cell_type": "markdown",
   "metadata": {},
   "source": [
    "**Let's now multiplicate both vectors:**"
   ]
  },
  {
   "cell_type": "code",
   "execution_count": null,
   "metadata": {},
   "outputs": [],
   "source": [
    "v5d=v5a*v5b\n",
    "v5d"
   ]
  },
  {
   "cell_type": "markdown",
   "metadata": {},
   "source": [
    "**As we can see, the result is one-dimensional vector**"
   ]
  },
  {
   "cell_type": "markdown",
   "metadata": {},
   "source": [
    "## Loops, functions, and logical statements in Python"
   ]
  },
  {
   "attachments": {
    "for-while-repeat-loop-in-r-programming.png": {
     "image/png": "[encoded data removed]"
    }
   },
   "cell_type": "markdown",
   "metadata": {},
   "source": [
    "![for-while-repeat-loop-in-r-programming.png](attachment:for-while-repeat-loop-in-r-programming.png)"
   ]
  },
  {
   "cell_type": "markdown",
   "metadata": {},
   "source": [
    "### for Loop\n",
    "**syntax** <br>\n",
    "*for index in index sequence:<br>\n",
    "    statements(s)*"
   ]
  },
  {
   "cell_type": "code",
   "execution_count": 9,
   "metadata": {},
   "outputs": [
    {
     "name": "stdout",
     "output_type": "stream",
     "text": [
      "0\n",
      "1\n",
      "2\n",
      "3\n"
     ]
    }
   ],
   "source": [
    "n = 4\n",
    "for i in range(0, n):\n",
    "    print(i)"
   ]
  },
  {
   "cell_type": "code",
   "execution_count": 15,
   "metadata": {},
   "outputs": [
    {
     "name": "stdout",
     "output_type": "stream",
     "text": [
      "geeks\n",
      "for\n",
      "geeks\n"
     ]
    }
   ],
   "source": [
    "# Iterating over a list\n",
    "l = [\"geeks\", \"for\", \"geeks\"]\n",
    "for i in l:\n",
    "    print(i)\n",
    "      "
   ]
  },
  {
   "cell_type": "code",
   "execution_count": null,
   "metadata": {},
   "outputs": [],
   "source": []
  },
  {
   "cell_type": "code",
   "execution_count": null,
   "metadata": {},
   "outputs": [],
   "source": [
    "for t in range(1, 5): # initialization\n",
    "  # code block\n",
    "  # print one of t ==1\n",
    "    if t == 1: \n",
    "        print('One')\n",
    "   # print two if t ==2\n",
    "    elif t == 2:\n",
    "        print('Two')\n",
    "    else:\n",
    "        print('else block execute')"
   ]
  },
  {
   "cell_type": "code",
   "execution_count": null,
   "metadata": {},
   "outputs": [],
   "source": [
    "for i in range(1, 11):   \n",
    "    # print the value of i\n",
    "    print(i)   \n",
    "    # check the value of i is less then 5\n",
    "    # if i lessthen 5 then continue loop\n",
    "    if i < 5: \n",
    "        continue         \n",
    "    # if i greather then 5 then break loop\n",
    "    else: \n",
    "        break"
   ]
  },
  {
   "cell_type": "markdown",
   "metadata": {},
   "source": [
    "### while Loop <br>\n",
    "**Syntax :** <br>\n",
    "\n",
    "*while expression: <br>\n",
    "    statement(s)*"
   ]
  },
  {
   "cell_type": "code",
   "execution_count": 8,
   "metadata": {},
   "outputs": [
    {
     "name": "stdout",
     "output_type": "stream",
     "text": [
      "0  is  less than 5\n",
      "1  is  less than 5\n",
      "2  is  less than 5\n",
      "3  is  less than 5\n",
      "4  is  less than 5\n"
     ]
    }
   ],
   "source": [
    "count = 0\n",
    "while count < 5:\n",
    "   print(count, \" is  less than 5\")\n",
    "   count = count + 1"
   ]
  },
  {
   "cell_type": "markdown",
   "metadata": {},
   "source": [
    "**Using else statement with while loops** <br>\n",
    "**The syntax of a if-else statement is:** <br>\n",
    "\n",
    "if condition: <br>\n",
    "$~~~~$execute these statements <br>\n",
    "else: <br>\n",
    "$~~~~$execute these statements <br>\n",
    "\n",
    "**Thus for while loop like this are similar:** <br>\n",
    "\n",
    "while condition: <br>\n",
    "$~~~~$execute these statements <br>\n",
    "else: <br>\n",
    "$~~~~$execute these statements <br>\n"
   ]
  },
  {
   "cell_type": "code",
   "execution_count": 7,
   "metadata": {},
   "outputs": [
    {
     "name": "stdout",
     "output_type": "stream",
     "text": [
      "Hello Geek\n",
      "Hello Geek\n",
      "Hello Geek\n",
      "In Else Block\n"
     ]
    }
   ],
   "source": [
    "count = 0\n",
    "while count < 3:   \n",
    "    count = count + 1\n",
    "    print(\"Hello Geek\")\n",
    "else:\n",
    "    print(\"In Else Block\")"
   ]
  },
  {
   "cell_type": "code",
   "execution_count": 3,
   "metadata": {},
   "outputs": [
    {
     "name": "stdout",
     "output_type": "stream",
     "text": [
      "Current Letter : g\n",
      "Current Letter : k\n",
      "Current Letter : f\n",
      "Current Letter : o\n",
      "Current Letter : r\n",
      "Current Letter : g\n",
      "Current Letter : k\n"
     ]
    }
   ],
   "source": [
    "# Prints all letters except 'e' and 's'\n",
    "i = 0\n",
    "a = 'geeksforgeeks'\n",
    " \n",
    "while i < len(a):\n",
    "    if a[i] == 'e' or a[i] == 's':\n",
    "        i += 1\n",
    "        continue\n",
    "         \n",
    "    print('Current Letter :', a[i])\n",
    "    i += 1"
   ]
  },
  {
   "cell_type": "markdown",
   "metadata": {},
   "source": [
    "### Nested loops (loop inside another loop)"
   ]
  },
  {
   "cell_type": "markdown",
   "metadata": {},
   "source": [
    "for index in index sequence: <br>\n",
    "$~~~~$for index in index sequence: <br>\n",
    "$~~~~~~~~$statements(s) <br>\n",
    "$~~~~~~~~$statements(s) <br>\n",
    "         "
   ]
  },
  {
   "cell_type": "code",
   "execution_count": 1,
   "metadata": {},
   "outputs": [
    {
     "name": "stdout",
     "output_type": "stream",
     "text": [
      "1 + 3 = 4\n",
      "1 + 4 = 5\n",
      "2 + 3 = 5\n",
      "2 + 4 = 6\n"
     ]
    }
   ],
   "source": [
    "\n",
    "for i in range(1, 3):\n",
    "    for j in range(3, 5):\n",
    "         print(i,'+', j, '=', i+j)\n"
   ]
  },
  {
   "cell_type": "markdown",
   "metadata": {},
   "source": [
    "### Loop Control Statements\n",
    "\n",
    "**Continue Statement: It returns the control to the beginning of the loop.**"
   ]
  },
  {
   "cell_type": "code",
   "execution_count": 3,
   "metadata": {},
   "outputs": [
    {
     "name": "stdout",
     "output_type": "stream",
     "text": [
      "Current Letter : g\n",
      "Current Letter : k\n",
      "Current Letter : f\n",
      "Current Letter : o\n",
      "Current Letter : r\n",
      "Current Letter : g\n",
      "Current Letter : k\n"
     ]
    }
   ],
   "source": [
    "\n",
    "# Prints all letters except 'e' and 's'\n",
    "for letter in 'geeksforgeeks':\n",
    "    if letter == 'e' or letter == 's':\n",
    "         continue\n",
    "    print('Current Letter :', letter)\n",
    "    var = 10"
   ]
  },
  {
   "cell_type": "markdown",
   "metadata": {},
   "source": [
    "**Break Statement: It brings control out of the loop**"
   ]
  },
  {
   "cell_type": "code",
   "execution_count": 4,
   "metadata": {},
   "outputs": [
    {
     "name": "stdout",
     "output_type": "stream",
     "text": [
      "Current Letter : e\n"
     ]
    }
   ],
   "source": [
    "for letter in 'geeksforgeeks':\n",
    " \n",
    "    # break the loop as soon it sees 'e'\n",
    "    # or 's'\n",
    "    if letter == 'e' or letter == 's':\n",
    "         break\n",
    " \n",
    "print('Current Letter :', letter)"
   ]
  },
  {
   "cell_type": "markdown",
   "metadata": {},
   "source": [
    "**Pass Statement: We use pass statement to write empty loops. Pass is also used for empty control statement, function and classes.**"
   ]
  },
  {
   "cell_type": "code",
   "execution_count": 6,
   "metadata": {},
   "outputs": [
    {
     "name": "stdout",
     "output_type": "stream",
     "text": [
      "Last Letter : s\n"
     ]
    }
   ],
   "source": [
    "\n",
    "# An empty loop\n",
    "for letter in 'geeksforgeeks':\n",
    "    pass\n",
    "print('Last Letter :', letter)"
   ]
  },
  {
   "cell_type": "markdown",
   "metadata": {},
   "source": [
    "### Controls in while loop"
   ]
  },
  {
   "cell_type": "code",
   "execution_count": 7,
   "metadata": {},
   "outputs": [
    {
     "name": "stdout",
     "output_type": "stream",
     "text": [
      "apple\n",
      "orange\n",
      "kiwi\n"
     ]
    }
   ],
   "source": [
    "fruits = [\"apple\", \"orange\", \"kiwi\"]\n",
    " \n",
    "# Creating an iterator object\n",
    "# from that iterable i.e fruits\n",
    "iter_obj = iter(fruits)\n",
    " \n",
    "# Infinite while loop\n",
    "while True:\n",
    "  try:\n",
    "       \n",
    "      # getting the next item\n",
    "      fruit = next(iter_obj)\n",
    "      print(fruit)\n",
    "  except StopIteration:\n",
    "        \n",
    "      # if StopIteration is raised,\n",
    "      # break from loop\n",
    "       break"
   ]
  },
  {
   "cell_type": "markdown",
   "metadata": {},
   "source": [
    "### Functions"
   ]
  },
  {
   "cell_type": "code",
   "execution_count": null,
   "metadata": {},
   "outputs": [],
   "source": [
    "\n",
    "def fun(num):\n",
    "    try:\n",
    "        r = 1/num\n",
    "    except:\n",
    "        print('Exception raies')\n",
    "        return\n",
    "    return r\n",
    " \n",
    "print(fun(10))\n",
    "print(fun(0))"
   ]
  },
  {
   "cell_type": "code",
   "execution_count": null,
   "metadata": {},
   "outputs": [],
   "source": [
    "###Example 1: Example of and, or, not, True, False keywords.\n",
    "\n",
    "\n",
    "\n",
    "\n",
    "print(\"example of True, False, and, or not keywords\")\n",
    " \n",
    "#  compare two operands using and operator\n",
    "print(True and True)\n",
    " \n",
    "# compare two operands using or operator\n",
    "print(True or False)\n",
    " \n",
    "# use of not operator\n",
    "print(not False)\n",
    "######\n",
    "###Example 2: Example of a break, continue.\n",
    "\n",
    "\n",
    "# execute for loop\n",
    "for i in range(1, 11):\n",
    "     \n",
    "    # print the value of i\n",
    "    print(i)\n",
    "     \n",
    "    # check the value of i is less then 5\n",
    "    # if i lessthen 5 then continue loop\n",
    "    if i < 5: \n",
    "        continue\n",
    "         \n",
    "    # if i greather then 5 then break loop\n",
    "    else: \n",
    "        break\n",
    "        \n",
    "## Example 3: example of for, in, if, elif and else keyword.\n",
    "\n",
    "\n",
    "# run for loop\n",
    "for t in range(1, 5):\n",
    "  # print one of t ==1\n",
    "    if t == 1:\n",
    "        print('One')\n",
    "   # print two if t ==2\n",
    "    elif t == 2:\n",
    "        print('Two')\n",
    "    else:\n",
    "        print('else block execute')\n",
    "\n",
    "\n",
    "# define GFG() function using def keyword\n",
    "def GFG():\n",
    "    i=20\n",
    "    # check i is odd or not\n",
    "    # using if and else keyword\n",
    "    if(i % 2 == 0):\n",
    "        print(\"given number is even\")\n",
    "    else:\n",
    "        print(\"given number is odd\")   \n",
    "     \n",
    "# call GFG() function   \n",
    "GFG()\n",
    "\n",
    "##Example 5: example try, except, raise.\n",
    "\n",
    "\n",
    "\n",
    "\n",
    "def fun(num):\n",
    "    try:\n",
    "        r = 1/num\n",
    "    except:\n",
    "        print('Exception raies')\n",
    "        return\n",
    "    return r\n",
    " \n",
    "print(fun(10))\n",
    "print(fun(0))\n",
    "\n",
    "\n",
    "##Example 6: Example of a lambda keyword.\n",
    "\n",
    "\n",
    "# define a anonymous using lambda keyword\n",
    "# this lambda function increment the value of b\n",
    "a = lambda b: b+1\n",
    " \n",
    "# run a for loop\n",
    "for i in range(1, 6):\n",
    "    print(a(i))\n",
    "\n",
    "##Example 7: use of return keyword.\n",
    "\n",
    "\n",
    "# define a function\n",
    "def fun():\n",
    "  # declare a variable\n",
    "    a = 5\n",
    "    # return the value of a\n",
    "    return a\n",
    "# call fun method and store\n",
    "# it's return value in a variable \n",
    "t = fun()\n",
    "# print the value of t\n",
    "print(t)\n",
    "\n",
    "##Example 8: use of a del keyword.\n",
    "\n",
    "\n",
    "# create a list\n",
    "l = ['a', 'b', 'c', 'd', 'e']\n",
    " \n",
    "# print list before using del keyword\n",
    "print(l)\n",
    " \n",
    "del l[2]\n",
    " \n",
    "# print list after using del keyword\n",
    "print(l)\n",
    "\n",
    "##Example 9: use of global keyword.\n",
    "\n",
    "\n",
    "# declare a variable\n",
    "gvar = 10\n",
    " \n",
    "# create a function\n",
    "def fun1():\n",
    "  # print the value of gvar\n",
    "    print(gvar)\n",
    " \n",
    "# declare fun2()\n",
    "def fun2():\n",
    "  # declare global value gvar\n",
    "    global gvar\n",
    "    gvar = 100\n",
    " \n",
    "# call fun1()\n",
    "fun1()\n",
    " \n",
    "# call fun2()\n",
    "fun2()\n",
    "\n",
    "Example 10: example of yield keyword.\n",
    "\n",
    "\n",
    "def Generator():\n",
    "    for i in range(6):\n",
    "        yield i+1\n",
    " \n",
    "t = Generator()\n",
    "for i in t:\n",
    "    print(i)\n",
    "\n",
    "##Example 10: example of assert keyword.\n",
    "\n",
    "def sumOfMoney(money):\n",
    "    assert len(money) != 0,\"List is empty.\"\n",
    "    return sum(money)\n",
    " \n",
    "money = []\n",
    "print(\"sum of money:\",sumOfMoney(money))\n",
    "."
   ]
  },
  {
   "cell_type": "code",
   "execution_count": null,
   "metadata": {},
   "outputs": [],
   "source": []
  },
  {
   "cell_type": "code",
   "execution_count": null,
   "metadata": {},
   "outputs": [],
   "source": []
  },
  {
   "cell_type": "code",
   "execution_count": null,
   "metadata": {},
   "outputs": [],
   "source": []
  }
 ],
 "metadata": {
  "kernelspec": {
   "display_name": "Python 3",
   "language": "python",
   "name": "python3"
  },
  "language_info": {
   "codemirror_mode": {
    "name": "ipython",
    "version": 3
   },
   "file_extension": ".py",
   "mimetype": "text/x-python",
   "name": "python",
   "nbconvert_exporter": "python",
   "pygments_lexer": "ipython3",
   "version": "3.6.8"
  }
 },
 "nbformat": 4,
 "nbformat_minor": 2
}
